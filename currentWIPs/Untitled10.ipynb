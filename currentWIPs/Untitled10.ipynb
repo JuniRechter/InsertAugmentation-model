{
 "cells": [
  {
   "cell_type": "code",
   "execution_count": 1,
   "id": "35f656fc-c61b-4ca1-a17c-f7753aaf2d55",
   "metadata": {
    "tags": []
   },
   "outputs": [
    {
     "name": "stderr",
     "output_type": "stream",
     "text": [
      "2024-03-29 16:59:55.247751: I tensorflow/core/util/port.cc:110] oneDNN custom operations are on. You may see slightly different numerical results due to floating-point round-off errors from different computation orders. To turn them off, set the environment variable `TF_ENABLE_ONEDNN_OPTS=0`.\n",
      "2024-03-29 16:59:55.366175: I tensorflow/core/platform/cpu_feature_guard.cc:182] This TensorFlow binary is optimized to use available CPU instructions in performance-critical operations.\n",
      "To enable the following instructions: AVX2 AVX512F AVX512_VNNI FMA, in other operations, rebuild TensorFlow with the appropriate compiler flags.\n",
      "2024-03-29 16:59:56.990801: W tensorflow/compiler/tf2tensorrt/utils/py_utils.cc:38] TF-TRT Warning: Could not find TensorRT\n"
     ]
    }
   ],
   "source": [
    "import os\n",
    "import sys\n",
    "import numpy as np\n",
    "import pandas as pd\n",
    "import tensorflow as tf\n",
    "import matplotlib.pyplot as plt\n",
    "from PIL import Image\n",
    "import keras.backend as K\n",
    "from tensorflow.keras.applications import densenet\n",
    "import tensorflow.keras.layers as kl\n",
    "from tensorflow.keras.callbacks import EarlyStopping, TensorBoard\n",
    "from tensorflow.keras.layers import Layer\n",
    "#import keras_tuner\n",
    "\n",
    "import itertools\n",
    "import sklearn.metrics\n",
    "\n",
    "from sklearn.model_selection import StratifiedKFold\n",
    "from sklearn.model_selection import StratifiedGroupKFold\n",
    "#from keras_tuner.tuners import BayesianOptimization\n",
    "#from keras_tuner import Objective\n",
    "#from keras_tuner_cv.utils import pd_inner_cv_get_result\n",
    "\n",
    "#Optimizer options\n",
    "from tensorflow.keras.optimizers import Adam"
   ]
  },
  {
   "cell_type": "code",
   "execution_count": 2,
   "id": "de6aabdf-aa5b-498c-b8e1-1f82bb4a8712",
   "metadata": {},
   "outputs": [],
   "source": [
    "from sklearn.utils import resample"
   ]
  },
  {
   "cell_type": "code",
   "execution_count": 3,
   "id": "9d445ced-96c4-4f87-ba91-1fc1224bb970",
   "metadata": {},
   "outputs": [],
   "source": [
    "import tensorflow as tf\n",
    "import cv2\n",
    "from imgaug import augmenters as iaa\n",
    "from skimage.exposure import match_histograms\n",
    "\n",
    "import collections\n",
    "collections.Iterable = collections.abc.Iterable\n",
    "import numpy as np\n",
    "import random\n",
    "np.bool = np.bool_\n",
    "np.complex = np.complex_\n",
    "\n",
    "import argparse\n",
    "import os\n",
    "import sys\n",
    "import time"
   ]
  },
  {
   "cell_type": "code",
   "execution_count": 4,
   "id": "de47226e-b5bc-46ce-8705-144205f3bb81",
   "metadata": {},
   "outputs": [],
   "source": [
    "os.chdir(\"/localscratch/hrechter.18211959.0\")"
   ]
  },
  {
   "cell_type": "code",
   "execution_count": 5,
   "id": "f66f5205-f9e7-4626-beb3-03319ba4f754",
   "metadata": {},
   "outputs": [],
   "source": [
    "#%% Define mask insertion function\n",
    "'''\n",
    "Function from StackOverflow user Ben: https://stackoverflow.com/users/59850/ben\n",
    "https://stackoverflow.com/questions/40895785/using-opencv-to-overlay-transparent-image-onto-another-image\n",
    "'''\n",
    "def add_transparent_image(background, foreground, x_offset=None, y_offset=None):\n",
    "    bg_h, bg_w, bg_channels = background.shape\n",
    "    fg_h, fg_w, fg_channels = foreground.shape\n",
    "\n",
    "    assert bg_channels == 3, f'background image should have exactly 3 channels (RGB). found:{bg_channels}'\n",
    "    assert fg_channels == 4, f'foreground image should have exactly 4 channels (RGBA). found:{fg_channels}'\n",
    "\n",
    "    # center by default\n",
    "    if x_offset is None: \n",
    "        x_offset = (bg_w - fg_w) // 2\n",
    "    else:\n",
    "        centre_x = (bg_w - fg_w) // 2\n",
    "        x_offset = x_offset + centre_x\n",
    "        \n",
    "    if y_offset is None: \n",
    "        y_offset = (bg_h - fg_h) // 2\n",
    "    else:\n",
    "        centre_y = (bg_h - fg_h) // 2\n",
    "        y_offset = y_offset + centre_y\n",
    "\n",
    "    w = min(fg_w, bg_w, fg_w + x_offset, bg_w - x_offset)\n",
    "    h = min(fg_h, bg_h, fg_h + y_offset, bg_h - y_offset)\n",
    "\n",
    "    if w < 1 or h < 1: return\n",
    "\n",
    "    # clip foreground and background images to the overlapping regions\n",
    "    bg_x = max(0, x_offset)\n",
    "    bg_y = max(0, y_offset)\n",
    "    fg_x = max(0, x_offset * -1)\n",
    "    fg_y = max(0, y_offset * -1)\n",
    "    foreground = foreground[fg_y:fg_y + h, fg_x:fg_x + w]\n",
    "    background_subsection = background[bg_y:bg_y + h, bg_x:bg_x + w]\n",
    "\n",
    "    # separate alpha and color channels from the foreground image\n",
    "    foreground_colors = foreground[:, :, :3]\n",
    "#    foreground_colors = match_histograms(foreground_colors, background, channel_axis=-1)\n",
    "    alpha_channel = foreground[:, :, 3] / 255  # 0-255 => 0.0-1.0\n",
    "\n",
    "    # construct an alpha_mask that matches the image shape\n",
    "    alpha_mask = np.dstack((alpha_channel, alpha_channel, alpha_channel))\n",
    "\n",
    "    # combine the background with the overlay image weighted by alpha\n",
    "    composite = background_subsection * (1 - alpha_mask) + foreground_colors * alpha_mask\n",
    "\n",
    "    # overwrite the section of the background image that has been updated\n",
    "    background[bg_y:bg_y + h, bg_x:bg_x + w] = composite\n",
    "    return background"
   ]
  },
  {
   "cell_type": "code",
   "execution_count": 6,
   "id": "4225a9c9-427e-4699-aa3c-843bbfc7f02d",
   "metadata": {},
   "outputs": [],
   "source": [
    "#%% Define augmentation functions\n",
    "mask_augs = iaa.Sequential([iaa.Resize((0.09, 0.17), interpolation=\"area\"), #area interpolation is best for shrinking images\n",
    "        iaa.SomeOf((1, 2), [  # Random number between 0, 2\n",
    "        iaa.Fliplr(0.5),  # Horizontal flips                     0.01\n",
    "        iaa.Rotate((-10, 10)),\n",
    "        ], random_order=True)], random_order = True)\n",
    "\n",
    "Winter_aug = iaa.SomeOf((1, 3), [  # Random number between 0, 3\n",
    "        iaa.weather.Clouds(),\n",
    "        iaa.weather.Fog(),\n",
    "        iaa.weather.Snowflakes()\n",
    "        ], random_order=True)\n",
    "\n",
    "small_aug = iaa.SomeOf((1, 3), [  # Random number between 0, 3\n",
    "        iaa.Fliplr(0.5),  # Horizontal flips                     0.01\n",
    "        iaa.Multiply((0.95, 1.05), per_channel=0.2),  # Brightness multiplier per channel    0.05\n",
    "        iaa.Grayscale(alpha=(0.1, 1.0)),  # Random Grayscale conversion          0.17        \n",
    "        iaa.LinearContrast((0.75, 1.5)),  # Contrast Normalization               0.95\n",
    "        ], random_order=True)\n",
    "\n",
    "train_aug = iaa.SomeOf((1, 3), [  # Random number between 0, 3\n",
    "        iaa.Fliplr(0.5),  # Horizontal flips                     0.01\n",
    "        # Random channel increase and rotation 0.03\n",
    "        iaa.Add((-5, 5)),  # Overall Brightness                   0.04\n",
    "        iaa.Multiply((0.95, 1.05), per_channel=0.2),  # Brightness multiplier per channel    0.05\n",
    "        iaa.Sharpen(alpha=(0.1, 0.75), lightness=(0.85, 1.15)),  # Sharpness                            0.05\n",
    "        iaa.WithColorspace(to_colorspace='HSV', from_colorspace='RGB',  # Random HSV increase                  0.09\n",
    "                           children=iaa.WithChannels(0, iaa.Add((-30, 30)))),\n",
    "        iaa.WithColorspace(to_colorspace='HSV', from_colorspace='RGB',\n",
    "                           children=iaa.WithChannels(1, iaa.Add((-30, 30)))),\n",
    "        iaa.WithColorspace(to_colorspace='HSV', from_colorspace='RGB',\n",
    "                           children=iaa.WithChannels(2, iaa.Add((-30, 30)))),\n",
    "        iaa.AddElementwise((-10, 10)),  # Per pixel addition                   0.11\n",
    "        iaa.CoarseDropout((0.0, 0.02), size_percent=(0.02, 0.25)),  # Add large black squares              0.13\n",
    "        iaa.GaussianBlur(sigma=(0.1, 1.0)),  # GaussianBlur                         0.14\n",
    "        iaa.Grayscale(alpha=(0.1, 1.0)),  # Random Grayscale conversion          0.17\n",
    "        iaa.Dropout(p=(0, 0.1), per_channel=0.2),  # Add small black squares              0.17\n",
    "        iaa.AdditiveGaussianNoise(scale=(0.0, 0.05 * 255), per_channel=0.5),\n",
    "        # Add Gaussian per pixel noise         0.26\n",
    "        iaa.ElasticTransformation(alpha=(0, 1.0), sigma=0.25),  # Distort image by rearranging pixels  0.70\n",
    "        iaa.LinearContrast((0.75, 1.5)),  # Contrast Normalization               0.95\n",
    "        iaa.weather.Clouds(),\n",
    "        iaa.weather.Fog(),\n",
    "  #      iaa.weather.Rain()\n",
    "    ], random_order=True)"
   ]
  },
  {
   "cell_type": "code",
   "execution_count": 7,
   "id": "33d54de1-620a-4f85-87f3-f8b293c05ceb",
   "metadata": {},
   "outputs": [],
   "source": [
    "#%%\n",
    "class TrainingDataGenerator(tf.keras.utils.Sequence):\n",
    "    def __init__(self, df, crops, X_col, y_col,\n",
    "                 batch_size, model_name,\n",
    "                 shuffle=True, inserts=False, \n",
    "                 weights=None, night_weights=None):\n",
    "\n",
    "        self.df = df.copy()\n",
    "        self.crops = crops.copy()\n",
    "#        print(len(df), flush=True)\n",
    "        self.X_col = X_col\n",
    "        self.y_col = y_col\n",
    "        self.batch_size = batch_size\n",
    "        self.shuffle = shuffle\n",
    "        self.model = model_name\n",
    "        self.inserts=inserts\n",
    "        self.n = len(self.df)\n",
    "        if self.inserts==False:\n",
    "            self.n_id = df[y_col['id']].nunique()\n",
    "        elif self.inserts==True:\n",
    "            self.n_id = ((df[y_col['id']].nunique())-2)\n",
    "            self._weights=weights\n",
    "            self._night_weights=night_weights\n",
    "    #        self.night_weights.pop(3)\n",
    "#            print(self.weights, flush=True)\n",
    " #           print(self.night_weights, flush=True)\n",
    "        self.n_domain = df[y_col['domain']].nunique()\n",
    "\n",
    "\n",
    "    # Shuffling upon epoch end if flagged\n",
    "    def on_epoch_end(self):\n",
    "        if self.shuffle:\n",
    "            self.df = self.df.sample(frac=1).reset_index(drop=True)\n",
    "\n",
    "    def __insert_augs(self, path, night, spp):\n",
    "#        rolld6 = np.random.randint(0,6)\n",
    " #       print(rolld6)\n",
    "#        print(self._weights, flush=True)\n",
    "#        print(self._night_weights, flush=True)\n",
    "        if spp==-1:\n",
    "            rolld6=(random.choices([0, 1, 3, 4, 5, 6, 7, 8, 9, 10, 11, 12, 13, 14, 15, 16, 17, 18, 20, 21, 22, 23, 25, 28, 29, 30, 31, 32, 33, 34, 35], weights=self._weights, k=1))[0]\n",
    "            nightd4=(random.choices([0, 1, 4, 6, 8, 9, 11, 12, 13, 14, 15, 16, 17, 18, 19, 20, 21, 22, 23, 24, 25, 26, 27, 28, 29, 30, 32, 33], weights=self._night_weights, k=1))[0]\n",
    "        if spp==-2:\n",
    "#            rolld6=(random.choices([0, 1, 2, 3, 4, 5], k=1))[0]\n",
    "            rolld6=(random.choices([0, 1, 2, 3, 4, 5, 6, 7, 8, 9, 10, 11, 12, 13, 14, 15, 16, 17, 18, 20, 21, 22, 23, 25, 28, 29, 30, 31, 32, 33, 34, 35], k=1))[0]\n",
    "#            nightd4=(random.choices([0, 1, 2, 4, 5], k=1))[0]\n",
    "            nightd4=(random.choices([0, 1, 2, 4, 6, 8, 9, 11, 12, 13, 14, 15, 16, 17, 18, 19, 20, 21, 22, 23, 24, 25, 26, 27, 28, 29, 30, 32, 33], k=1))[0]\n",
    "        if night==True:\n",
    "            image = cv2.imread(path)\n",
    "           # rolld4=np.random.choice([0, 1, 4, 5])\n",
    "   #         print(self.night_weights, flush=True)\n",
    "#            rolld5=(random.choices([0, 1, 2, 4, 5], k=1))[0]\n",
    "            crop_index = self.crops.loc[(self.crops.Night==True) & (self.crops.id==nightd4)].sample(n=1).index\n",
    "#            crop_index = self.crops[self.crops.Night==True].sample(n=1, replace=False).index\n",
    "            crop_index = crop_index[0]\n",
    "        elif night==False:\n",
    "            image_og = cv2.imread(path)\n",
    "            image = cv2.imread(path)\n",
    "   #         print(self.weights, flush=True) \n",
    "#            rolld6=(random.choices([0, 1, 2, 3, 4, 5], k=1))[0]\n",
    "#            rolld4 = np.random.choice([0, 3, 4, 5])\n",
    "            crop_index = self.crops.loc[(self.crops.Night==False) & (self.crops.id==rolld6)].sample(n=1).index\n",
    "#            crop_index = self.crops[self.crops.Night==False].sample(n=1, replace=False).index\n",
    "            crop_index = crop_index[0]\n",
    "        cpath = self.crops.iloc[crop_index, 0]\n",
    " #       print((\"Crop 1:\", cpath), flush=True)\n",
    "        crop = cv2.imread(('crops/' + cpath), cv2.IMREAD_UNCHANGED)\n",
    "#        print(crop, flush=True)\n",
    "        spp_name = self.crops.iloc[crop_index, 2]\n",
    "        species = self.crops.iloc[crop_index, 3]\n",
    "#        species = self.crops['id'][crop_index]\n",
    "        crop_aug = mask_augs.augment_image(crop)\n",
    "\n",
    "        y_jitter=np.random.randint(-7, 40)\n",
    "        x_jitter=np.random.randint(-85, 85)\n",
    "        image = add_transparent_image(image, crop_aug, x_offset=x_jitter, y_offset=y_jitter)\n",
    "#        print(image)\n",
    "    #    if night ==True:\n",
    "  #          noise = iaa.Sequential([iaa.AdditiveGaussianNoise(scale=(0, 5))])\n",
    "   #         image = noise.augment_image(image)\n",
    "#        if night==False:\n",
    " #           image = match_histograms(image, image_og, channel_axis=-1)\n",
    "        image = cv2.rectangle(image, (0,0), (244,52), (0,0,0), -1) # 52 pixels on top and bottom Black infobar)\n",
    "        image = cv2.rectangle(image, (0,172), (244,244), (0,0,0), -1) # 52 pixels on top and bottom Black infobar)\n",
    "\n",
    "        rolld100=np.random.randint(1, 101)\n",
    "        if rolld100==100: #Save 1% of created images for verification\n",
    "            file = path.rsplit('/')[-1]\n",
    "            if not os.path.exists(\"Results/augmentations/\"):\n",
    "                os.makedirs(\"Results/augmentations/\")\n",
    "            cv2.imwrite(\"Results/augmentations/\" + spp_name + \"_\" + file, image)\n",
    "        image_arr = image.astype(\"float32\")\n",
    "        return image_arr, species\n",
    "\n",
    "    #Reads image and normalizes it\n",
    "    def __get_input(self, path):\n",
    "        image = tf.keras.utils.load_img(\"AHC/\" + path)\n",
    "        image_arr = tf.keras.utils.img_to_array(image)\n",
    "        image_arr = small_aug.augment_image(image_arr.astype(\"uint8\")).astype(\"float32\")\n",
    "        return image_arr/255\n",
    "\n",
    "    #Reads image and normalizes it\n",
    "    def __get_insert_input(self, x):\n",
    "        path=x[0]\n",
    "        empty=x[1]\n",
    "        night=x[2]\n",
    "        spp=x[3]\n",
    "        if empty==True:\n",
    "            image_arr, x[3] = self.__insert_augs(path, night, spp)\n",
    "        else:\n",
    "            image = tf.keras.utils.load_img(\"AHC/\" + path)\n",
    "            image_arr = tf.keras.utils.img_to_array(image)\n",
    "        image_arr = small_aug.augment_image(image_arr.astype(\"uint8\")).astype(\"float32\")\n",
    "        spp = x[3]\n",
    "        label = tf.keras.utils.to_categorical(spp, 36)\n",
    "        return image_arr/255, label\n",
    "\n",
    "    #One-hot encoding of label\n",
    "    def __get_output(self, label, num_classes):\n",
    "        return tf.keras.utils.to_categorical(label, num_classes=num_classes)\n",
    "\n",
    "    #Generates batch_size samples of data\n",
    "    def __get_data(self, batches):\n",
    "        # Generates data containing batch_size samples\n",
    "        path_batch = batches[self.X_col['path']]\n",
    "        name_batch = batches[self.y_col['id']]\n",
    "\n",
    "        if self.inserts==True:\n",
    "            empty_batch = batches[self.X_col['Empty']]\n",
    "            night_batch = batches[self.X_col['Night']]\n",
    "            x_batches=np.array([path_batch, empty_batch, night_batch, name_batch])\n",
    "            x_batches=np.stack(x_batches,axis=1)\n",
    "\n",
    "            batch_tuple = np.asarray([self.__get_insert_input(x) for x in x_batches])\n",
    "            X_batch, y0_batch = zip(*batch_tuple)\n",
    "            X_batch = np.array(X_batch)\n",
    "            y0_batch= np.array(y0_batch)\n",
    "\n",
    "        else:\n",
    "            X_batch = np.asarray([self.__get_input(x) for x in path_batch])\n",
    "            y0_batch = np.asarray([self.__get_output(y, self.n_id) for y in name_batch])\n",
    "\n",
    "        if self.model in ('DenseNet201', 'CNN'):\n",
    "            return X_batch, y0_batch\n",
    "        elif self.model in ('DANNseNet201', 'DANN'):\n",
    "            sin_season_batch = batches[self.y_col['sin_date']]\n",
    "            cos_season_batch = batches[self.y_col['cos_date']]\n",
    "            y1_batch = np.asarray([y for y in zip(sin_season_batch, cos_season_batch)])\n",
    "            return X_batch, tuple([y0_batch, y1_batch])\n",
    "        elif self.model in ('CatDANN', 'catDANN'):\n",
    "            domain_batch = batches[self.y_col['domain']]\n",
    "            y1_batch = np.asarray([self.__get_output(y, 4) for y in domain_batch])\n",
    "            return X_batch, tuple([y0_batch, y1_batch])\n",
    "\n",
    "    #Returns data batches as tuple\n",
    "    def __getitem__(self, index):\n",
    "\n",
    "        batches = self.df[index * self.batch_size:(index + 1) * self.batch_size]\n",
    "        X, y = self.__get_data(batches)    \n",
    "\n",
    "        return X, y\n",
    "\n",
    "    #Returns number of batches\n",
    "    def __len__(self):\n",
    "        return self.n // self.batch_size"
   ]
  },
  {
   "cell_type": "code",
   "execution_count": 8,
   "id": "6edcfa15-7473-4ba3-9d42-1ce1f2dc19be",
   "metadata": {},
   "outputs": [],
   "source": [
    "class ValidationDataGenerator(tf.keras.utils.Sequence):\n",
    "    def __init__(self, df, X_col, y_col,\n",
    "                 batch_size, model_name,\n",
    "                 shuffle=True):\n",
    "        \n",
    "        self.df = df.copy()\n",
    "        self.X_col = X_col\n",
    "        self.y_col = y_col\n",
    "        self.batch_size = batch_size\n",
    "        self.shuffle = shuffle\n",
    "        self.model = model_name\n",
    "        self.n = len(self.df)\n",
    "        self.n_id = ((df[y_col['id']]).nunique())\n",
    "        self.n_domain = df[y_col['domain']].nunique()\n",
    "    # Shuffling upon epoch end if flagged\n",
    "    def on_epoch_end(self):\n",
    "        if self.shuffle:\n",
    "            self.df = self.df.sample(frac=1).reset_index(drop=True)\n",
    "    \n",
    "    #Reads image and normalizes it\n",
    "    def __get_input(self, path):\n",
    "\n",
    "        image = tf.keras.utils.load_img(\"AHC/\" + path)\n",
    "        image_arr = tf.keras.utils.img_to_array(image)\n",
    "        return image_arr/255.\n",
    "   \n",
    "    #One-hot encoding of label\n",
    "    def __get_output(self, label, num_classes):\n",
    "        return tf.keras.utils.to_categorical(label, num_classes=num_classes)\n",
    "    \n",
    "    #Generates batches of data\n",
    "    def __get_data(self, batches):\n",
    "        # Generates data containing batch_size samples\n",
    "        path_batch = batches[self.X_col['path']]\n",
    "        name_batch = batches[self.y_col['id']]\n",
    "        X_batch = np.asarray([self.__get_input(x) for x in path_batch])\n",
    "        y0_batch = np.asarray([self.__get_output(y, self.n_id) for y in name_batch])\n",
    "\n",
    "        if self.model in ('DenseNet201', 'CNN'):\n",
    "            return X_batch, y0_batch\n",
    "        elif self.model in ('DANNseNet201', 'DANN'):\n",
    "            sin_season_batch = batches[self.y_col['sin_date']]\n",
    "            cos_season_batch = batches[self.y_col['cos_date']]\n",
    "            y1_batch = np.asarray([y for y in zip(sin_season_batch, cos_season_batch)])\n",
    "            return X_batch, tuple([y0_batch, y1_batch])\n",
    "        elif self.model in ('CatDANN', 'catDANN'):\n",
    "            domain_batch = batches[self.y_col['domain']]\n",
    "            y1_batch = np.asarray([self.__get_output(y, 4) for y in domain_batch])\n",
    "            return X_batch, tuple([y0_batch, y1_batch])\n",
    "    \n",
    "    #Returns data batches as tuple\n",
    "    def __getitem__(self, index):\n",
    "        \n",
    "        batches = self.df[index * self.batch_size:(index + 1) * self.batch_size]\n",
    "        X, y = self.__get_data(batches)    \n",
    "        \n",
    "        return X, y\n",
    "    \n",
    "    #Returns number of batches\n",
    "    def __len__(self):\n",
    "        return self.n // self.batch_size"
   ]
  },
  {
   "cell_type": "code",
   "execution_count": null,
   "id": "327f7a92-d853-4498-a63c-afc1c5efb5f1",
   "metadata": {},
   "outputs": [],
   "source": []
  },
  {
   "cell_type": "code",
   "execution_count": 9,
   "id": "2103abb4-2279-4d51-bc51-7615add71ddf",
   "metadata": {},
   "outputs": [],
   "source": [
    "from lrfinder import LRFinder"
   ]
  },
  {
   "cell_type": "code",
   "execution_count": 10,
   "id": "bb025ff4-6b0c-490e-ba72-8d8c06847fc0",
   "metadata": {},
   "outputs": [],
   "source": [
    "df = pd.read_csv(\"AHC_data.csv\")\n",
    "df['id'] = df['id']-1\n",
    "allAHC = pd.read_csv(\"AHC_all.csv\")\n",
    "allAHC['id'] = allAHC['id']-1\n",
    "crops = pd.read_csv(\"crops.csv\")\n",
    "empties = pd.read_csv(\"empties.csv\")"
   ]
  },
  {
   "cell_type": "code",
   "execution_count": 11,
   "id": "8f5b0495-91a8-4247-99de-6aad6eedd3f7",
   "metadata": {},
   "outputs": [],
   "source": [
    "def get_group(train_df, group):\n",
    "    \"\"\"\n",
    "    Stratified Group K-fold cross validation requires an extra group around which to split the data.\n",
    "    This function returns that group data as an array. \n",
    "    \n",
    "    Inputs:\n",
    "    - traindf: str, the metadata CSV containing annotations for the images. \n",
    "    \n",
    "    - group: str, set which location margin to divide the dataset by for cross validation.\n",
    "    Options: \n",
    "        - \"CTloc\" - K-fold will split data down to singular CT stations. This is the smallest split of data.\n",
    "        - \"CTtype\" - K-fold will split data down to CT study area and area type, three per CT area. ie. PT_RAF, PT_TRV, PT_ROW.\n",
    "        - \"areatype\" - K-fold will split data down to area type, three overall. ie. RAF, TRV, ROW.\n",
    "        - \"studyarea\" - K-fold will split data down to CT study area. This is the largest split of all data. ie. PT, SC, SV, GL.\n",
    "    \n",
    "    Returns:\n",
    "        out (numpy.ndarray): array-like of shape [n_samples,]\n",
    "        \n",
    "    \"\"\"\n",
    "    \n",
    " #   train_df = pd.read_csv(traindf)\n",
    "\n",
    "    if group in (\"CTloc\"):\n",
    "        CTloc_train = np.array(train_df['Camera_loc'])\n",
    "        return CTloc_train\n",
    "    elif group in (\"CTtype\"):\n",
    "        CTtype_train = np.array(train_df['Camera_type'])\n",
    "        return CTtype_train\n",
    "    elif group in (\"Ecoregion\"):\n",
    "        Ecoregion_train = np.array(train_df['Ecoregion'])\n",
    "        return Ecoregion_train\n",
    "    elif group in (\"studyarea\"):\n",
    "        studyarea_train = np.array(train_df['study_area'])\n",
    "        return studyarea_train\n",
    "    "
   ]
  },
  {
   "cell_type": "code",
   "execution_count": 12,
   "id": "4085e30b-0a44-46cc-bef5-f40efdf680ad",
   "metadata": {},
   "outputs": [],
   "source": [
    "#group = get_group(allAHC, \"CTloc\")\n",
    "group=None\n",
    "#kfold = StratifiedGroupKFold(n_splits=5, shuffle=True, random_state=42)\n",
    "kfold = StratifiedKFold(n_splits=5, shuffle=True, random_state=42)\n",
    "group_name=\"CTRand\""
   ]
  },
  {
   "cell_type": "code",
   "execution_count": 13,
   "id": "e2bcfb8b-8343-4f8e-8693-c909089cf56d",
   "metadata": {},
   "outputs": [],
   "source": [
    "Y = np.array(allAHC['id'])\n",
    "num_classes = 36\n",
    "BATCH=256"
   ]
  },
  {
   "cell_type": "code",
   "execution_count": 14,
   "id": "0c4ea553-132c-47b7-b6e8-ed37e85e618d",
   "metadata": {},
   "outputs": [],
   "source": [
    "#%%\n",
    "def model_build():\n",
    "    model = densenet.DenseNet201(weights=\"imagenet\", include_top=False, input_shape=(224,224,3), pooling=\"avg\")\n",
    "    model.trainable = False\n",
    "    regularizer = None\n",
    "    \n",
    "    out = kl.Dense(256, activation=\"relu\", kernel_regularizer=regularizer)(model.layers[-1].output)\n",
    "    out = kl.Dropout(0.0)(out)\n",
    "\n",
    "    out = kl.Dense(256, activation='relu')(out)\n",
    "    out = kl.Dropout(0.0)(out)\n",
    "\n",
    "    spp_class = kl.Dense(num_classes, activation='softmax', name=\"spp_class\")(out)\n",
    "\n",
    "    model = tf.keras.Model(inputs=model.inputs,\n",
    "                           outputs=spp_class)\n",
    "\n",
    "    return model"
   ]
  },
  {
   "cell_type": "code",
   "execution_count": 15,
   "id": "025f0699-6bf5-4884-b840-b7353bcec247",
   "metadata": {},
   "outputs": [],
   "source": [
    "def plot_loss(n_skip_beginning=10, n_skip_end=5, x_scale='log'):\n",
    "    \"\"\"\n",
    "    Plots the loss.\n",
    "    Parameters:\n",
    "        n_skip_beginning - number of batches to skip on the left.\n",
    "        n_skip_end - number of batches to skip on the right.\n",
    "        \"\"\"\n",
    "    learning_rates = lr_finder.get_learning_rates()\n",
    "    losses = lr_finder.get_losses()\n",
    "\n",
    "    f, ax = plt.subplots()\n",
    "    ax.set_ylabel(\"loss\")\n",
    "    ax.set_xlabel(\"learning rate (log scale)\")\n",
    "    ax.plot(learning_rates[n_skip_beginning:-n_skip_end],\n",
    "            losses[n_skip_beginning:-n_skip_end])\n",
    "    ax.set_xscale(x_scale)\n",
    "    return(ax)"
   ]
  },
  {
   "cell_type": "code",
   "execution_count": 16,
   "id": "73e3a35c-a83d-4cbd-8cbe-7c97b6c4e44e",
   "metadata": {},
   "outputs": [],
   "source": [
    "def balance_dataset(df, column='string'):\n",
    "    max_cat = df[[column]].value_counts().reset_index(name='count').at[0, column]\n",
    "    max_count = len(df.loc[df[column]==max_cat])\n",
    "    df_balanced = pd.DataFrame()\n",
    "    \n",
    "    for cat in df[column].unique():\n",
    "        df_sample = df[df[column] == cat]\n",
    "\n",
    "        temp = resample(df_sample, \n",
    "                        replace=True,           # sample with replacement\n",
    "                        n_samples=max_count,    # to match majority class\n",
    "                        random_state=42,        # reproducible results\n",
    "                        stratify=df_sample['path']) \n",
    "\n",
    "        # Combine majority class with upsampled minority class\n",
    "        df_balanced = pd.concat([df_balanced, temp])\n",
    " \n",
    "    return df_balanced"
   ]
  },
  {
   "cell_type": "code",
   "execution_count": 17,
   "id": "f3cb1818-696f-4ee2-8261-f2b0c4d19387",
   "metadata": {},
   "outputs": [
    {
     "name": "stderr",
     "output_type": "stream",
     "text": [
      "2024-03-29 17:00:31.555769: I tensorflow/core/common_runtime/gpu/gpu_device.cc:1635] Created device /job:localhost/replica:0/task:0/device:GPU:0 with 31141 MB memory:  -> device: 0, name: Tesla V100-SXM2-32GB, pci bus id: 0000:b3:00.0, compute capability: 7.0\n"
     ]
    }
   ],
   "source": [
    "model = model_build()"
   ]
  },
  {
   "cell_type": "code",
   "execution_count": 18,
   "id": "9a17f964-214c-419e-a337-75dc0336eb2d",
   "metadata": {},
   "outputs": [],
   "source": [
    "lr=1e-6\n",
    "opt=Adam(learning_rate=lr)\n",
    "loss=\"categorical_crossentropy\"\n",
    "\n",
    "metrics=[\"accuracy\",\n",
    "        tf.keras.metrics.Precision(name=\"precision\"),\n",
    "        tf.keras.metrics.Recall(name=\"recall\")]\n",
    "model.compile(optimizer=opt, loss=loss, metrics=metrics)"
   ]
  },
  {
   "cell_type": "code",
   "execution_count": 26,
   "id": "da4cb8c5-f203-4d2a-8fb7-1f743265b6b0",
   "metadata": {},
   "outputs": [
    {
     "name": "stderr",
     "output_type": "stream",
     "text": [
      "/home/hrechter/AIenv/lib/python3.10/site-packages/sklearn/model_selection/_split.py:725: UserWarning: The least populated class in y has only 3 members, which is less than n_splits=5.\n",
      "  warnings.warn(\n"
     ]
    }
   ],
   "source": [
    "for split, (train_index, val_index) in enumerate(kfold.split(allAHC, Y, group)):\n",
    "    \n",
    "    train_df = allAHC.iloc[train_index]\n",
    "    val_df = allAHC.iloc[val_index]"
   ]
  },
  {
   "cell_type": "code",
   "execution_count": 38,
   "id": "35ccf7f1-e9c1-4d4f-aefa-82ec8c10c875",
   "metadata": {},
   "outputs": [],
   "source": [
    "bal_df=balance_dataset(train_df, 'Species')"
   ]
  },
  {
   "cell_type": "code",
   "execution_count": 50,
   "id": "4ef1caa5-ff6e-4793-a9b9-a7e4e01a0bf6",
   "metadata": {},
   "outputs": [],
   "source": [
    "allAHCnight=allAHC[['id', 'Night']].value_counts()\n"
   ]
  },
  {
   "cell_type": "code",
   "execution_count": 52,
   "id": "c1c3ebff-ce47-4feb-a3e8-819c6beff5e9",
   "metadata": {},
   "outputs": [],
   "source": [
    "allAHCnight.to_csv(\"AHCspp_night.csv\")"
   ]
  },
  {
   "cell_type": "code",
   "execution_count": 20,
   "id": "9a5eb871-cea3-4d3a-8078-31df803f5f44",
   "metadata": {},
   "outputs": [],
   "source": [
    "def get_train_weights(train_df):\n",
    "    class_weights = []\n",
    "    deer = len(train_df.loc[train_df['id']==2])\n",
    "\n",
    "    train_sample = (deer*36)-len(train_df)\n",
    "    class_weights.append((deer - len(train_df.loc[train_df['id']==0]))/train_sample)\n",
    "    class_weights.append((deer - len(train_df.loc[train_df['id']==1]))/train_sample)\n",
    "    for i in range(3, 36):\n",
    "        class_weights.append((deer - len(train_df.loc[train_df['id']==i]))/train_sample)\n",
    "    return class_weights, train_sample"
   ]
  },
  {
   "cell_type": "code",
   "execution_count": 24,
   "id": "2c3a891e-afcd-4345-9b79-f1ff82c0ae2a",
   "metadata": {},
   "outputs": [
    {
     "name": "stderr",
     "output_type": "stream",
     "text": [
      "/tmp/ipykernel_40505/1511266195.py:134: VisibleDeprecationWarning: Creating an ndarray from ragged nested sequences (which is a list-or-tuple of lists-or-tuples-or ndarrays with different lengths or shapes) is deprecated. If you meant to do this, you must specify 'dtype=object' when creating the ndarray.\n",
      "  batch_tuple = np.asarray([self.__get_insert_input(x) for x in x_batches])\n"
     ]
    }
   ],
   "source": [
    "BATCH=1024"
   ]
  },
  {
   "cell_type": "code",
   "execution_count": 22,
   "id": "dc176f0f-6214-44b1-b767-23938e0a7d7f",
   "metadata": {},
   "outputs": [
    {
     "name": "stderr",
     "output_type": "stream",
     "text": [
      "/home/hrechter/AIenv/lib/python3.10/site-packages/sklearn/model_selection/_split.py:725: UserWarning: The least populated class in y has only 3 members, which is less than n_splits=5.\n",
      "  warnings.warn(\n"
     ]
    },
    {
     "name": "stdout",
     "output_type": "stream",
     "text": [
      "N empties: 133307\n",
      "N empties: 133307\n",
      "N empties: 133270\n",
      "N empties: 133270\n",
      "N empties: 133270\n"
     ]
    }
   ],
   "source": [
    "for split, (train_index, val_index) in enumerate(kfold.split(allAHC, Y, group)):\n",
    "    train_df = allAHC.iloc[train_index]\n",
    "    val_df = allAHC.iloc[val_index]\n",
    "    \n",
    "    train_weights, train_sample = get_train_weights(train_df)\n",
    "    train_weights.pop(18)\n",
    "    train_weights.pop(22)\n",
    "    train_weights.pop(23)\n",
    "    train_weights.pop(23)\n",
    "    print(\"N empties: \" + str(train_sample))\n",
    "    night_weights = (get_train_weights(train_df))[0]\n",
    "    night_weights.pop(3)\n",
    "    night_weights.pop(4)\n",
    "    night_weights.pop(5)\n",
    "    night_weights.pop(7)\n",
    "    night_weights.pop(10)\n",
    "    night_weights.pop(27)\n",
    "    night_weights.pop(28)\n",
    "    \n",
    "    \n",
    "    if group_name in (\"CTloc\"):\n",
    "        train_group = np.unique(group[train_index])\n",
    "        val_group = np.unique(group[val_index])\n",
    "        train_empties=empties.loc[empties['Camera_loc'].isin(train_group)]\n",
    "        val_empties = empties.loc[empties['Camera_loc']. isin(val_group)]\n",
    "        val_empties['id']=-2\n",
    "    else:\n",
    "        train_empties = empties.copy()\n",
    "    train_empties=train_empties.sample(train_sample, replace=True)\n",
    "    train_empties['id']=-1\n",
    "    \n",
    "\n",
    "    add_empties = [train_df, train_empties] #, val_empties]\n",
    "    train_df = pd.concat(add_empties)\n",
    "#    train_df=balance_dataset(train_df, 'Species')\n",
    "\n",
    "    traingen = TrainingDataGenerator(df=train_df, crops= crops,\n",
    "                                             batch_size = BATCH,\n",
    "                                             y_col = {'id': 'id', 'domain': 'domain', \n",
    "                                                      'sin_date': 'sin_doy', 'cos_date': 'cos_doy'},\n",
    "                                             X_col = {'path': 'path', 'Empty': 'Empty', 'Night': 'Night'},\n",
    "                                             model_name=\"DenseNet201\",\n",
    "                                             shuffle = True, inserts=True, weights=train_weights, night_weights=night_weights)\n",
    "    valgen = ValidationDataGenerator(val_df,\n",
    "                                         batch_size = BATCH,\n",
    "                                         y_col = {'id': 'id', 'domain': 'domain', \n",
    "                                                  'sin_date': 'sin_doy', 'cos_date': 'cos_doy'},\n",
    "                                         X_col = {'path': 'path'},\n",
    "                                         model_name=\"DenseNet201\",\n",
    "                                         shuffle = True)\n",
    "    \n",
    "    STEPS_PER_EPOCH = np.ceil(len(train_df) / BATCH)\n",
    "    lr_finder = LRFinder(model)\n",
    "    lr_finder.find(traingen, start_lr=1e-4, end_lr=1e-1, epochs=5, steps_per_epoch=STEPS_PER_EPOCH, validation_data=valgen)\n",
    "    print(\"Fold: \" + str(split))\n",
    "    best_lr = lr_finder.get_best_lr(sma=20)\n",
    "    best_2 = lr_finder.get_best_lr(n_skip_beginning=25, n_skip_end=5, sma=20)\n",
    "    best_3 = lr_finder.get_best_lr(n_skip_beginning=45, n_skip_end=5, sma=20)\n",
    "    print(\"Best lr: \" + str(best_lr))\n",
    "    print(\"Best lr2: \" + str(best_2))\n",
    "    print(\"Best lr3: \" + str(best_3), flush=True)\n",
    "    axs = plot_loss()\n",
    "    axs.axvline(x=best_lr, c='r', linestyle='-.')\n",
    "    axs.axvline(x=best_2, c='b', linestyle='-.')\n",
    "    axs.axvline(x=best_3, c='g', linestyle='-.')"
   ]
  },
  {
   "cell_type": "code",
   "execution_count": 27,
   "id": "267accca-ad43-4a94-86cb-39eda06898f0",
   "metadata": {},
   "outputs": [
    {
     "name": "stdout",
     "output_type": "stream",
     "text": [
      "N empties: 133270\n"
     ]
    },
    {
     "name": "stderr",
     "output_type": "stream",
     "text": [
      "/tmp/ipykernel_40505/1511266195.py:134: VisibleDeprecationWarning: Creating an ndarray from ragged nested sequences (which is a list-or-tuple of lists-or-tuples-or ndarrays with different lengths or shapes) is deprecated. If you meant to do this, you must specify 'dtype=object' when creating the ndarray.\n",
      "  batch_tuple = np.asarray([self.__get_insert_input(x) for x in x_batches])\n"
     ]
    },
    {
     "name": "stdout",
     "output_type": "stream",
     "text": [
      "Epoch 1/3\n"
     ]
    },
    {
     "name": "stderr",
     "output_type": "stream",
     "text": [
      "2024-03-29 17:07:08.106972: I tensorflow/core/common_runtime/executor.cc:1197] [/device:CPU:0] (DEBUG INFO) Executor start aborting (this does not indicate an error and you can ignore this message): INVALID_ARGUMENT: You must feed a value for placeholder tensor 'Placeholder/_0' with dtype int32\n",
      "\t [[{{node Placeholder/_0}}]]\n"
     ]
    },
    {
     "name": "stdout",
     "output_type": "stream",
     "text": [
      "146/146 [==============================] - ETA: 0s - loss: 3.1587 - accuracy: 0.1422 - precision: 0.8652 - recall: 0.0255 "
     ]
    },
    {
     "name": "stderr",
     "output_type": "stream",
     "text": [
      "2024-03-29 17:36:10.423648: I tensorflow/core/common_runtime/executor.cc:1197] [/device:CPU:0] (DEBUG INFO) Executor start aborting (this does not indicate an error and you can ignore this message): INVALID_ARGUMENT: You must feed a value for placeholder tensor 'Placeholder/_0' with dtype int32\n",
      "\t [[{{node Placeholder/_0}}]]\n"
     ]
    },
    {
     "name": "stdout",
     "output_type": "stream",
     "text": [
      "146/146 [==============================] - 1755s 12s/step - loss: 3.1587 - accuracy: 0.1422 - precision: 0.8652 - recall: 0.0255 - val_loss: 2.6183 - val_accuracy: 0.2896 - val_precision: 0.5025 - val_recall: 0.0493\n",
      "Epoch 2/3\n",
      "146/146 [==============================] - 1683s 12s/step - loss: 2.5692 - accuracy: 0.2895 - precision: 0.8134 - recall: 0.1387 - val_loss: 1.7783 - val_accuracy: 0.5083 - val_precision: 0.7402 - val_recall: 0.3005\n",
      "Epoch 3/3\n",
      "146/146 [==============================] - 1677s 11s/step - loss: 3.5821 - accuracy: 0.1567 - precision: 0.4791 - recall: 0.0777 - val_loss: 3.6598 - val_accuracy: 0.0771 - val_precision: 0.0000e+00 - val_recall: 0.0000e+00\n",
      "Fold: 4\n",
      "Best lr: 0.0013257116\n",
      "Best lr2: 0.0013257116\n",
      "Best lr3: 0.0013257116\n"
     ]
    },
    {
     "data": {
      "text/plain": [
       "<matplotlib.lines.Line2D at 0x2ab60780b400>"
      ]
     },
     "execution_count": 27,
     "metadata": {},
     "output_type": "execute_result"
    },
    {
     "data": {
      "image/png": "[encoded data removed]",
      "text/plain": [
       "<Figure size 640x480 with 1 Axes>"
      ]
     },
     "metadata": {},
     "output_type": "display_data"
    }
   ],
   "source": [
    "train_weights, train_sample = get_train_weights(train_df)\n",
    "train_weights.pop(18)\n",
    "train_weights.pop(22)\n",
    "train_weights.pop(23)\n",
    "train_weights.pop(23)\n",
    "print(\"N empties: \" + str(train_sample))\n",
    "night_weights = (get_train_weights(train_df))[0]\n",
    "night_weights.pop(3)\n",
    "night_weights.pop(4)\n",
    "night_weights.pop(5)\n",
    "night_weights.pop(7)\n",
    "night_weights.pop(10)\n",
    "night_weights.pop(27)\n",
    "night_weights.pop(28)\n",
    "\n",
    "\n",
    "if group_name in (\"CTloc\"):\n",
    "    train_group = np.unique(group[train_index])\n",
    "    val_group = np.unique(group[val_index])\n",
    "    train_empties=empties.loc[empties['Camera_loc'].isin(train_group)]\n",
    "    val_empties = empties.loc[empties['Camera_loc']. isin(val_group)]\n",
    "    val_empties['id']=-2\n",
    "else:\n",
    "    train_empties = empties.copy()\n",
    "train_empties=train_empties.sample(train_sample, replace=True)\n",
    "train_empties['id']=-1\n",
    "\n",
    "\n",
    "add_empties = [train_df, train_empties] #, val_empties]\n",
    "train_df = pd.concat(add_empties)\n",
    "\n",
    "traingen = TrainingDataGenerator(df=train_df, crops= crops,\n",
    "                                     batch_size = BATCH,\n",
    "                                     y_col = {'id': 'id', 'domain': 'domain', \n",
    "                                              'sin_date': 'sin_doy', 'cos_date': 'cos_doy'},\n",
    "                                     X_col = {'path': 'path', 'Empty': 'Empty', 'Night': 'Night'},\n",
    "                                     model_name=\"DenseNet201\",\n",
    "                                     shuffle = True, inserts=True, weights=train_weights, night_weights=night_weights)\n",
    "valgen = ValidationDataGenerator(val_df,\n",
    "                                     batch_size = BATCH,\n",
    "                                     y_col = {'id': 'id', 'domain': 'domain', \n",
    "                                              'sin_date': 'sin_doy', 'cos_date': 'cos_doy'},\n",
    "                                     X_col = {'path': 'path'},\n",
    "                                     model_name=\"DenseNet201\",\n",
    "                                     shuffle = True)\n",
    "\n",
    "STEPS_PER_EPOCH = np.ceil(len(train_df) / BATCH)\n",
    "lr_finder = LRFinder(model)\n",
    "lr_finder.find(traingen, start_lr=1e-4, end_lr=1e-1, epochs=3, steps_per_epoch=STEPS_PER_EPOCH, validation_data=valgen)\n",
    "print(\"Fold: \" + str(split))\n",
    "best_lr = lr_finder.get_best_lr(sma=20)\n",
    "best_2 = lr_finder.get_best_lr(n_skip_beginning=25, n_skip_end=5, sma=20)\n",
    "best_3 = lr_finder.get_best_lr(n_skip_beginning=45, n_skip_end=5, sma=20)\n",
    "print(\"Best lr: \" + str(best_lr))\n",
    "print(\"Best lr2: \" + str(best_2))\n",
    "print(\"Best lr3: \" + str(best_3), flush=True)\n",
    "axs = plot_loss()\n",
    "axs.axvline(x=best_lr, c='r', linestyle='-.')\n",
    "axs.axvline(x=best_2, c='b', linestyle='-.')\n",
    "axs.axvline(x=best_3, c='g', linestyle='-.')"
   ]
  },
  {
   "cell_type": "code",
   "execution_count": 57,
   "id": "079dc461-a602-46a7-b2f0-2bbc567a4da5",
   "metadata": {},
   "outputs": [
    {
     "name": "stdout",
     "output_type": "stream",
     "text": [
      "Epoch 1/5\n"
     ]
    },
    {
     "name": "stderr",
     "output_type": "stream",
     "text": [
      "2024-03-29 11:54:12.584003: I tensorflow/core/common_runtime/executor.cc:1197] [/device:CPU:0] (DEBUG INFO) Executor start aborting (this does not indicate an error and you can ignore this message): INVALID_ARGUMENT: You must feed a value for placeholder tensor 'Placeholder/_0' with dtype int32\n",
      "\t [[{{node Placeholder/_0}}]]\n"
     ]
    },
    {
     "name": "stdout",
     "output_type": "stream",
     "text": [
      " 20/523 [>.............................] - ETA: 5:33 - loss: 3.2710 - accuracy: 0.1643 - precision: 1.0000 - recall: 0.0045"
     ]
    },
    {
     "ename": "KeyboardInterrupt",
     "evalue": "",
     "output_type": "error",
     "traceback": [
      "\u001b[0;31m---------------------------------------------------------------------------\u001b[0m",
      "\u001b[0;31mKeyboardInterrupt\u001b[0m                         Traceback (most recent call last)",
      "Cell \u001b[0;32mIn[57], line 3\u001b[0m\n\u001b[1;32m      1\u001b[0m STEPS_PER_EPOCH \u001b[38;5;241m=\u001b[39m np\u001b[38;5;241m.\u001b[39mceil(\u001b[38;5;28mlen\u001b[39m(train_df) \u001b[38;5;241m/\u001b[39m BATCH)\n\u001b[1;32m      2\u001b[0m lr_finder \u001b[38;5;241m=\u001b[39m LRFinder(model)\n\u001b[0;32m----> 3\u001b[0m \u001b[43mlr_finder\u001b[49m\u001b[38;5;241;43m.\u001b[39;49m\u001b[43mfind\u001b[49m\u001b[43m(\u001b[49m\u001b[43mtraingen\u001b[49m\u001b[43m,\u001b[49m\u001b[43m \u001b[49m\u001b[43mstart_lr\u001b[49m\u001b[38;5;241;43m=\u001b[39;49m\u001b[38;5;241;43m1e-5\u001b[39;49m\u001b[43m,\u001b[49m\u001b[43m \u001b[49m\u001b[43mend_lr\u001b[49m\u001b[38;5;241;43m=\u001b[39;49m\u001b[38;5;241;43m1\u001b[39;49m\u001b[43m,\u001b[49m\u001b[43m \u001b[49m\u001b[43mepochs\u001b[49m\u001b[38;5;241;43m=\u001b[39;49m\u001b[38;5;241;43m5\u001b[39;49m\u001b[43m,\u001b[49m\u001b[43m \u001b[49m\u001b[43msteps_per_epoch\u001b[49m\u001b[38;5;241;43m=\u001b[39;49m\u001b[43mSTEPS_PER_EPOCH\u001b[49m\u001b[43m)\u001b[49m\n\u001b[1;32m      4\u001b[0m fig \u001b[38;5;241m=\u001b[39m plot_loss()\n\u001b[1;32m      5\u001b[0m best_lr \u001b[38;5;241m=\u001b[39m lr_finder\u001b[38;5;241m.\u001b[39mget_best_lr(sma\u001b[38;5;241m=\u001b[39m\u001b[38;5;241m20\u001b[39m)\n",
      "File \u001b[0;32m/local/hrechter.18204968.0/lrfinder.py:70\u001b[0m, in \u001b[0;36mLRFinder.find\u001b[0;34m(self, dataset, start_lr, end_lr, epochs, steps_per_epoch, **kw_fit)\u001b[0m\n\u001b[1;32m     65\u001b[0m K\u001b[38;5;241m.\u001b[39mset_value(\u001b[38;5;28mself\u001b[39m\u001b[38;5;241m.\u001b[39mmodel\u001b[38;5;241m.\u001b[39moptimizer\u001b[38;5;241m.\u001b[39mlr, start_lr)\n\u001b[1;32m     67\u001b[0m callback \u001b[38;5;241m=\u001b[39m LambdaCallback(on_batch_end\u001b[38;5;241m=\u001b[39m\u001b[38;5;28;01mlambda\u001b[39;00m batch,\n\u001b[1;32m     68\u001b[0m                           logs: \u001b[38;5;28mself\u001b[39m\u001b[38;5;241m.\u001b[39mon_batch_end(batch, logs))\n\u001b[0;32m---> 70\u001b[0m \u001b[38;5;28;43mself\u001b[39;49m\u001b[38;5;241;43m.\u001b[39;49m\u001b[43mmodel\u001b[49m\u001b[38;5;241;43m.\u001b[39;49m\u001b[43mfit\u001b[49m\u001b[43m(\u001b[49m\u001b[43mdataset\u001b[49m\u001b[43m,\u001b[49m\n\u001b[1;32m     71\u001b[0m \u001b[43m               \u001b[49m\u001b[43mepochs\u001b[49m\u001b[38;5;241;43m=\u001b[39;49m\u001b[43mepochs\u001b[49m\u001b[43m,\u001b[49m\u001b[43m \u001b[49m\u001b[43mcallbacks\u001b[49m\u001b[38;5;241;43m=\u001b[39;49m\u001b[43m[\u001b[49m\u001b[43mcallback\u001b[49m\u001b[43m]\u001b[49m\u001b[43m,\u001b[49m\u001b[43m \u001b[49m\u001b[38;5;241;43m*\u001b[39;49m\u001b[38;5;241;43m*\u001b[39;49m\u001b[43mkw_fit\u001b[49m\u001b[43m)\u001b[49m\n\u001b[1;32m     72\u001b[0m \u001b[38;5;28mself\u001b[39m\u001b[38;5;241m.\u001b[39mmodel\u001b[38;5;241m.\u001b[39mset_weights(initial_weights)\n\u001b[1;32m     74\u001b[0m K\u001b[38;5;241m.\u001b[39mset_value(\u001b[38;5;28mself\u001b[39m\u001b[38;5;241m.\u001b[39mmodel\u001b[38;5;241m.\u001b[39moptimizer\u001b[38;5;241m.\u001b[39mlr, original_lr)\n",
      "File \u001b[0;32m~/AIenv/lib/python3.10/site-packages/keras/utils/traceback_utils.py:65\u001b[0m, in \u001b[0;36mfilter_traceback.<locals>.error_handler\u001b[0;34m(*args, **kwargs)\u001b[0m\n\u001b[1;32m     63\u001b[0m filtered_tb \u001b[38;5;241m=\u001b[39m \u001b[38;5;28;01mNone\u001b[39;00m\n\u001b[1;32m     64\u001b[0m \u001b[38;5;28;01mtry\u001b[39;00m:\n\u001b[0;32m---> 65\u001b[0m     \u001b[38;5;28;01mreturn\u001b[39;00m \u001b[43mfn\u001b[49m\u001b[43m(\u001b[49m\u001b[38;5;241;43m*\u001b[39;49m\u001b[43margs\u001b[49m\u001b[43m,\u001b[49m\u001b[43m \u001b[49m\u001b[38;5;241;43m*\u001b[39;49m\u001b[38;5;241;43m*\u001b[39;49m\u001b[43mkwargs\u001b[49m\u001b[43m)\u001b[49m\n\u001b[1;32m     66\u001b[0m \u001b[38;5;28;01mexcept\u001b[39;00m \u001b[38;5;167;01mException\u001b[39;00m \u001b[38;5;28;01mas\u001b[39;00m e:\n\u001b[1;32m     67\u001b[0m     filtered_tb \u001b[38;5;241m=\u001b[39m _process_traceback_frames(e\u001b[38;5;241m.\u001b[39m__traceback__)\n",
      "File \u001b[0;32m~/AIenv/lib/python3.10/site-packages/keras/engine/training.py:1685\u001b[0m, in \u001b[0;36mModel.fit\u001b[0;34m(self, x, y, batch_size, epochs, verbose, callbacks, validation_split, validation_data, shuffle, class_weight, sample_weight, initial_epoch, steps_per_epoch, validation_steps, validation_batch_size, validation_freq, max_queue_size, workers, use_multiprocessing)\u001b[0m\n\u001b[1;32m   1677\u001b[0m \u001b[38;5;28;01mwith\u001b[39;00m tf\u001b[38;5;241m.\u001b[39mprofiler\u001b[38;5;241m.\u001b[39mexperimental\u001b[38;5;241m.\u001b[39mTrace(\n\u001b[1;32m   1678\u001b[0m     \u001b[38;5;124m\"\u001b[39m\u001b[38;5;124mtrain\u001b[39m\u001b[38;5;124m\"\u001b[39m,\n\u001b[1;32m   1679\u001b[0m     epoch_num\u001b[38;5;241m=\u001b[39mepoch,\n\u001b[0;32m   (...)\u001b[0m\n\u001b[1;32m   1682\u001b[0m     _r\u001b[38;5;241m=\u001b[39m\u001b[38;5;241m1\u001b[39m,\n\u001b[1;32m   1683\u001b[0m ):\n\u001b[1;32m   1684\u001b[0m     callbacks\u001b[38;5;241m.\u001b[39mon_train_batch_begin(step)\n\u001b[0;32m-> 1685\u001b[0m     tmp_logs \u001b[38;5;241m=\u001b[39m \u001b[38;5;28;43mself\u001b[39;49m\u001b[38;5;241;43m.\u001b[39;49m\u001b[43mtrain_function\u001b[49m\u001b[43m(\u001b[49m\u001b[43miterator\u001b[49m\u001b[43m)\u001b[49m\n\u001b[1;32m   1686\u001b[0m     \u001b[38;5;28;01mif\u001b[39;00m data_handler\u001b[38;5;241m.\u001b[39mshould_sync:\n\u001b[1;32m   1687\u001b[0m         context\u001b[38;5;241m.\u001b[39masync_wait()\n",
      "File \u001b[0;32m~/AIenv/lib/python3.10/site-packages/tensorflow/python/util/traceback_utils.py:150\u001b[0m, in \u001b[0;36mfilter_traceback.<locals>.error_handler\u001b[0;34m(*args, **kwargs)\u001b[0m\n\u001b[1;32m    148\u001b[0m filtered_tb \u001b[38;5;241m=\u001b[39m \u001b[38;5;28;01mNone\u001b[39;00m\n\u001b[1;32m    149\u001b[0m \u001b[38;5;28;01mtry\u001b[39;00m:\n\u001b[0;32m--> 150\u001b[0m   \u001b[38;5;28;01mreturn\u001b[39;00m \u001b[43mfn\u001b[49m\u001b[43m(\u001b[49m\u001b[38;5;241;43m*\u001b[39;49m\u001b[43margs\u001b[49m\u001b[43m,\u001b[49m\u001b[43m \u001b[49m\u001b[38;5;241;43m*\u001b[39;49m\u001b[38;5;241;43m*\u001b[39;49m\u001b[43mkwargs\u001b[49m\u001b[43m)\u001b[49m\n\u001b[1;32m    151\u001b[0m \u001b[38;5;28;01mexcept\u001b[39;00m \u001b[38;5;167;01mException\u001b[39;00m \u001b[38;5;28;01mas\u001b[39;00m e:\n\u001b[1;32m    152\u001b[0m   filtered_tb \u001b[38;5;241m=\u001b[39m _process_traceback_frames(e\u001b[38;5;241m.\u001b[39m__traceback__)\n",
      "File \u001b[0;32m~/AIenv/lib/python3.10/site-packages/tensorflow/python/eager/polymorphic_function/polymorphic_function.py:894\u001b[0m, in \u001b[0;36mFunction.__call__\u001b[0;34m(self, *args, **kwds)\u001b[0m\n\u001b[1;32m    891\u001b[0m compiler \u001b[38;5;241m=\u001b[39m \u001b[38;5;124m\"\u001b[39m\u001b[38;5;124mxla\u001b[39m\u001b[38;5;124m\"\u001b[39m \u001b[38;5;28;01mif\u001b[39;00m \u001b[38;5;28mself\u001b[39m\u001b[38;5;241m.\u001b[39m_jit_compile \u001b[38;5;28;01melse\u001b[39;00m \u001b[38;5;124m\"\u001b[39m\u001b[38;5;124mnonXla\u001b[39m\u001b[38;5;124m\"\u001b[39m\n\u001b[1;32m    893\u001b[0m \u001b[38;5;28;01mwith\u001b[39;00m OptionalXlaContext(\u001b[38;5;28mself\u001b[39m\u001b[38;5;241m.\u001b[39m_jit_compile):\n\u001b[0;32m--> 894\u001b[0m   result \u001b[38;5;241m=\u001b[39m \u001b[38;5;28;43mself\u001b[39;49m\u001b[38;5;241;43m.\u001b[39;49m\u001b[43m_call\u001b[49m\u001b[43m(\u001b[49m\u001b[38;5;241;43m*\u001b[39;49m\u001b[43margs\u001b[49m\u001b[43m,\u001b[49m\u001b[43m \u001b[49m\u001b[38;5;241;43m*\u001b[39;49m\u001b[38;5;241;43m*\u001b[39;49m\u001b[43mkwds\u001b[49m\u001b[43m)\u001b[49m\n\u001b[1;32m    896\u001b[0m new_tracing_count \u001b[38;5;241m=\u001b[39m \u001b[38;5;28mself\u001b[39m\u001b[38;5;241m.\u001b[39mexperimental_get_tracing_count()\n\u001b[1;32m    897\u001b[0m without_tracing \u001b[38;5;241m=\u001b[39m (tracing_count \u001b[38;5;241m==\u001b[39m new_tracing_count)\n",
      "File \u001b[0;32m~/AIenv/lib/python3.10/site-packages/tensorflow/python/eager/polymorphic_function/polymorphic_function.py:926\u001b[0m, in \u001b[0;36mFunction._call\u001b[0;34m(self, *args, **kwds)\u001b[0m\n\u001b[1;32m    923\u001b[0m   \u001b[38;5;28mself\u001b[39m\u001b[38;5;241m.\u001b[39m_lock\u001b[38;5;241m.\u001b[39mrelease()\n\u001b[1;32m    924\u001b[0m   \u001b[38;5;66;03m# In this case we have created variables on the first call, so we run the\u001b[39;00m\n\u001b[1;32m    925\u001b[0m   \u001b[38;5;66;03m# defunned version which is guaranteed to never create variables.\u001b[39;00m\n\u001b[0;32m--> 926\u001b[0m   \u001b[38;5;28;01mreturn\u001b[39;00m \u001b[38;5;28;43mself\u001b[39;49m\u001b[38;5;241;43m.\u001b[39;49m\u001b[43m_no_variable_creation_fn\u001b[49m\u001b[43m(\u001b[49m\u001b[38;5;241;43m*\u001b[39;49m\u001b[43margs\u001b[49m\u001b[43m,\u001b[49m\u001b[43m \u001b[49m\u001b[38;5;241;43m*\u001b[39;49m\u001b[38;5;241;43m*\u001b[39;49m\u001b[43mkwds\u001b[49m\u001b[43m)\u001b[49m  \u001b[38;5;66;03m# pylint: disable=not-callable\u001b[39;00m\n\u001b[1;32m    927\u001b[0m \u001b[38;5;28;01melif\u001b[39;00m \u001b[38;5;28mself\u001b[39m\u001b[38;5;241m.\u001b[39m_variable_creation_fn \u001b[38;5;129;01mis\u001b[39;00m \u001b[38;5;129;01mnot\u001b[39;00m \u001b[38;5;28;01mNone\u001b[39;00m:\n\u001b[1;32m    928\u001b[0m   \u001b[38;5;66;03m# Release the lock early so that multiple threads can perform the call\u001b[39;00m\n\u001b[1;32m    929\u001b[0m   \u001b[38;5;66;03m# in parallel.\u001b[39;00m\n\u001b[1;32m    930\u001b[0m   \u001b[38;5;28mself\u001b[39m\u001b[38;5;241m.\u001b[39m_lock\u001b[38;5;241m.\u001b[39mrelease()\n",
      "File \u001b[0;32m~/AIenv/lib/python3.10/site-packages/tensorflow/python/eager/polymorphic_function/tracing_compiler.py:143\u001b[0m, in \u001b[0;36mTracingCompiler.__call__\u001b[0;34m(self, *args, **kwargs)\u001b[0m\n\u001b[1;32m    140\u001b[0m \u001b[38;5;28;01mwith\u001b[39;00m \u001b[38;5;28mself\u001b[39m\u001b[38;5;241m.\u001b[39m_lock:\n\u001b[1;32m    141\u001b[0m   (concrete_function,\n\u001b[1;32m    142\u001b[0m    filtered_flat_args) \u001b[38;5;241m=\u001b[39m \u001b[38;5;28mself\u001b[39m\u001b[38;5;241m.\u001b[39m_maybe_define_function(args, kwargs)\n\u001b[0;32m--> 143\u001b[0m \u001b[38;5;28;01mreturn\u001b[39;00m \u001b[43mconcrete_function\u001b[49m\u001b[38;5;241;43m.\u001b[39;49m\u001b[43m_call_flat\u001b[49m\u001b[43m(\u001b[49m\n\u001b[1;32m    144\u001b[0m \u001b[43m    \u001b[49m\u001b[43mfiltered_flat_args\u001b[49m\u001b[43m,\u001b[49m\u001b[43m \u001b[49m\u001b[43mcaptured_inputs\u001b[49m\u001b[38;5;241;43m=\u001b[39;49m\u001b[43mconcrete_function\u001b[49m\u001b[38;5;241;43m.\u001b[39;49m\u001b[43mcaptured_inputs\u001b[49m\u001b[43m)\u001b[49m\n",
      "File \u001b[0;32m~/AIenv/lib/python3.10/site-packages/tensorflow/python/eager/polymorphic_function/monomorphic_function.py:1757\u001b[0m, in \u001b[0;36mConcreteFunction._call_flat\u001b[0;34m(self, args, captured_inputs, cancellation_manager)\u001b[0m\n\u001b[1;32m   1753\u001b[0m possible_gradient_type \u001b[38;5;241m=\u001b[39m gradients_util\u001b[38;5;241m.\u001b[39mPossibleTapeGradientTypes(args)\n\u001b[1;32m   1754\u001b[0m \u001b[38;5;28;01mif\u001b[39;00m (possible_gradient_type \u001b[38;5;241m==\u001b[39m gradients_util\u001b[38;5;241m.\u001b[39mPOSSIBLE_GRADIENT_TYPES_NONE\n\u001b[1;32m   1755\u001b[0m     \u001b[38;5;129;01mand\u001b[39;00m executing_eagerly):\n\u001b[1;32m   1756\u001b[0m   \u001b[38;5;66;03m# No tape is watching; skip to running the function.\u001b[39;00m\n\u001b[0;32m-> 1757\u001b[0m   \u001b[38;5;28;01mreturn\u001b[39;00m \u001b[38;5;28mself\u001b[39m\u001b[38;5;241m.\u001b[39m_build_call_outputs(\u001b[38;5;28;43mself\u001b[39;49m\u001b[38;5;241;43m.\u001b[39;49m\u001b[43m_inference_function\u001b[49m\u001b[38;5;241;43m.\u001b[39;49m\u001b[43mcall\u001b[49m\u001b[43m(\u001b[49m\n\u001b[1;32m   1758\u001b[0m \u001b[43m      \u001b[49m\u001b[43mctx\u001b[49m\u001b[43m,\u001b[49m\u001b[43m \u001b[49m\u001b[43margs\u001b[49m\u001b[43m,\u001b[49m\u001b[43m \u001b[49m\u001b[43mcancellation_manager\u001b[49m\u001b[38;5;241;43m=\u001b[39;49m\u001b[43mcancellation_manager\u001b[49m\u001b[43m)\u001b[49m)\n\u001b[1;32m   1759\u001b[0m forward_backward \u001b[38;5;241m=\u001b[39m \u001b[38;5;28mself\u001b[39m\u001b[38;5;241m.\u001b[39m_select_forward_and_backward_functions(\n\u001b[1;32m   1760\u001b[0m     args,\n\u001b[1;32m   1761\u001b[0m     possible_gradient_type,\n\u001b[1;32m   1762\u001b[0m     executing_eagerly)\n\u001b[1;32m   1763\u001b[0m forward_function, args_with_tangents \u001b[38;5;241m=\u001b[39m forward_backward\u001b[38;5;241m.\u001b[39mforward()\n",
      "File \u001b[0;32m~/AIenv/lib/python3.10/site-packages/tensorflow/python/eager/polymorphic_function/monomorphic_function.py:381\u001b[0m, in \u001b[0;36m_EagerDefinedFunction.call\u001b[0;34m(self, ctx, args, cancellation_manager)\u001b[0m\n\u001b[1;32m    379\u001b[0m \u001b[38;5;28;01mwith\u001b[39;00m _InterpolateFunctionError(\u001b[38;5;28mself\u001b[39m):\n\u001b[1;32m    380\u001b[0m   \u001b[38;5;28;01mif\u001b[39;00m cancellation_manager \u001b[38;5;129;01mis\u001b[39;00m \u001b[38;5;28;01mNone\u001b[39;00m:\n\u001b[0;32m--> 381\u001b[0m     outputs \u001b[38;5;241m=\u001b[39m \u001b[43mexecute\u001b[49m\u001b[38;5;241;43m.\u001b[39;49m\u001b[43mexecute\u001b[49m\u001b[43m(\u001b[49m\n\u001b[1;32m    382\u001b[0m \u001b[43m        \u001b[49m\u001b[38;5;28;43mstr\u001b[39;49m\u001b[43m(\u001b[49m\u001b[38;5;28;43mself\u001b[39;49m\u001b[38;5;241;43m.\u001b[39;49m\u001b[43msignature\u001b[49m\u001b[38;5;241;43m.\u001b[39;49m\u001b[43mname\u001b[49m\u001b[43m)\u001b[49m\u001b[43m,\u001b[49m\n\u001b[1;32m    383\u001b[0m \u001b[43m        \u001b[49m\u001b[43mnum_outputs\u001b[49m\u001b[38;5;241;43m=\u001b[39;49m\u001b[38;5;28;43mself\u001b[39;49m\u001b[38;5;241;43m.\u001b[39;49m\u001b[43m_num_outputs\u001b[49m\u001b[43m,\u001b[49m\n\u001b[1;32m    384\u001b[0m \u001b[43m        \u001b[49m\u001b[43minputs\u001b[49m\u001b[38;5;241;43m=\u001b[39;49m\u001b[43margs\u001b[49m\u001b[43m,\u001b[49m\n\u001b[1;32m    385\u001b[0m \u001b[43m        \u001b[49m\u001b[43mattrs\u001b[49m\u001b[38;5;241;43m=\u001b[39;49m\u001b[43mattrs\u001b[49m\u001b[43m,\u001b[49m\n\u001b[1;32m    386\u001b[0m \u001b[43m        \u001b[49m\u001b[43mctx\u001b[49m\u001b[38;5;241;43m=\u001b[39;49m\u001b[43mctx\u001b[49m\u001b[43m)\u001b[49m\n\u001b[1;32m    387\u001b[0m   \u001b[38;5;28;01melse\u001b[39;00m:\n\u001b[1;32m    388\u001b[0m     outputs \u001b[38;5;241m=\u001b[39m execute\u001b[38;5;241m.\u001b[39mexecute_with_cancellation(\n\u001b[1;32m    389\u001b[0m         \u001b[38;5;28mstr\u001b[39m(\u001b[38;5;28mself\u001b[39m\u001b[38;5;241m.\u001b[39msignature\u001b[38;5;241m.\u001b[39mname),\n\u001b[1;32m    390\u001b[0m         num_outputs\u001b[38;5;241m=\u001b[39m\u001b[38;5;28mself\u001b[39m\u001b[38;5;241m.\u001b[39m_num_outputs,\n\u001b[0;32m   (...)\u001b[0m\n\u001b[1;32m    393\u001b[0m         ctx\u001b[38;5;241m=\u001b[39mctx,\n\u001b[1;32m    394\u001b[0m         cancellation_manager\u001b[38;5;241m=\u001b[39mcancellation_manager)\n",
      "File \u001b[0;32m~/AIenv/lib/python3.10/site-packages/tensorflow/python/eager/execute.py:52\u001b[0m, in \u001b[0;36mquick_execute\u001b[0;34m(op_name, num_outputs, inputs, attrs, ctx, name)\u001b[0m\n\u001b[1;32m     50\u001b[0m \u001b[38;5;28;01mtry\u001b[39;00m:\n\u001b[1;32m     51\u001b[0m   ctx\u001b[38;5;241m.\u001b[39mensure_initialized()\n\u001b[0;32m---> 52\u001b[0m   tensors \u001b[38;5;241m=\u001b[39m \u001b[43mpywrap_tfe\u001b[49m\u001b[38;5;241;43m.\u001b[39;49m\u001b[43mTFE_Py_Execute\u001b[49m\u001b[43m(\u001b[49m\u001b[43mctx\u001b[49m\u001b[38;5;241;43m.\u001b[39;49m\u001b[43m_handle\u001b[49m\u001b[43m,\u001b[49m\u001b[43m \u001b[49m\u001b[43mdevice_name\u001b[49m\u001b[43m,\u001b[49m\u001b[43m \u001b[49m\u001b[43mop_name\u001b[49m\u001b[43m,\u001b[49m\n\u001b[1;32m     53\u001b[0m \u001b[43m                                      \u001b[49m\u001b[43minputs\u001b[49m\u001b[43m,\u001b[49m\u001b[43m \u001b[49m\u001b[43mattrs\u001b[49m\u001b[43m,\u001b[49m\u001b[43m \u001b[49m\u001b[43mnum_outputs\u001b[49m\u001b[43m)\u001b[49m\n\u001b[1;32m     54\u001b[0m \u001b[38;5;28;01mexcept\u001b[39;00m core\u001b[38;5;241m.\u001b[39m_NotOkStatusException \u001b[38;5;28;01mas\u001b[39;00m e:\n\u001b[1;32m     55\u001b[0m   \u001b[38;5;28;01mif\u001b[39;00m name \u001b[38;5;129;01mis\u001b[39;00m \u001b[38;5;129;01mnot\u001b[39;00m \u001b[38;5;28;01mNone\u001b[39;00m:\n",
      "\u001b[0;31mKeyboardInterrupt\u001b[0m: "
     ]
    }
   ],
   "source": [
    "STEPS_PER_EPOCH = np.ceil(len(train_df) / BATCH)\n",
    "lr_finder = LRFinder(model)\n",
    "lr_finder.find(traingen, start_lr=1e-5, end_lr=1, epochs=5, steps_per_epoch=STEPS_PER_EPOCH)\n",
    "fig = plot_loss()\n",
    "best_lr = lr_finder.get_best_lr(sma=20)\n",
    "print(\"Best lr: \" + str(best_lr), flush=True)"
   ]
  },
  {
   "cell_type": "code",
   "execution_count": 43,
   "id": "aa37e731-754e-4894-83ea-b9da89ce252d",
   "metadata": {},
   "outputs": [],
   "source": [
    "traingen = TrainingDataGenerator(df=bal_df, crops= crops,\n",
    "                                         batch_size = BATCH,\n",
    "                                         y_col = {'id': 'id', 'domain': 'domain', \n",
    "                                                  'sin_date': 'sin_doy', 'cos_date': 'cos_doy'},\n",
    "                                         X_col = {'path': 'path', 'Empty': 'Empty', 'Night': 'Night'},\n",
    "                                         model_name=\"DenseNet201\",\n",
    "                                         shuffle = True, inserts=False) #, weights=train_weights, night_weights=night_weights)\n",
    "valgen = ValidationDataGenerator(val_df,\n",
    "                                     batch_size = BATCH,\n",
    "                                     y_col = {'id': 'id', 'domain': 'domain', \n",
    "                                              'sin_date': 'sin_doy', 'cos_date': 'cos_doy'},\n",
    "                                     X_col = {'path': 'path'},\n",
    "                                     model_name=\"DenseNet201\",\n",
    "                                     shuffle = True)"
   ]
  },
  {
   "cell_type": "code",
   "execution_count": 44,
   "id": "5a994936-775e-4ed8-90ef-e15f415ac1b3",
   "metadata": {},
   "outputs": [
    {
     "name": "stdout",
     "output_type": "stream",
     "text": [
      "0.0009999999\n"
     ]
    },
    {
     "data": {
      "image/png": "[encoded data removed]",
      "text/plain": [
       "<Figure size 640x480 with 1 Axes>"
      ]
     },
     "metadata": {},
     "output_type": "display_data"
    }
   ],
   "source": [
    "axs = plot_loss()\n",
    "axs.axvline(x=0.005, c='g', linestyle='-.')\n",
    "print(lr_finder.get_best_lr(n_skip_beginning=20, n_skip_end=290, sma=20))"
   ]
  },
  {
   "cell_type": "code",
   "execution_count": 82,
   "id": "b9349bc3-3e3a-43d3-ad3d-9fd30aa26c38",
   "metadata": {},
   "outputs": [],
   "source": [
    "for split, (train_index, val_index) in enumerate(kfold.split(df, Y, group)):\n",
    "    \n",
    "    train_df = df.iloc[train_index]\n",
    "    val_df = df.iloc[val_index]\n",
    "\n",
    "    y_train = np.array(train_df['id'])\n",
    "\n",
    "  #  val_group = np.unique(group[val_index])\n",
    "  #  empties = empties.loc[empties['Camera_loc']. isin(val_group)]\n",
    "    empties=empties.sample(1000, replace=False)\n",
    "    add_empties = [train_df, empties]\n",
    "    train_df = pd.concat(add_empties)\n",
    "\n",
    "#    paths, X_train, y_train = get_data(train_df)\n",
    " #   testpaths, X_test, y_test = get_data(val_df)\n",
    "    \n",
    "    traingen = TrainingDataGenerator(df=train_df, crops= crops,\n",
    "                                     batch_size = BATCH,\n",
    "                                     y_col = {'id': 'id', 'domain': 'domain', \n",
    "                                              'sin_date': 'sin_doy', 'cos_date': 'cos_doy'},\n",
    "                                     X_col = {'path': 'path', 'Empty': 'Empty', 'Night': 'Night'},\n",
    "                                     model_name=\"DenseNet201\",\n",
    "                                     shuffle = True, inserts=False)\n",
    "    valgen = ValidationDataGenerator(val_df,\n",
    "                                     batch_size = BATCH,\n",
    "                                     y_col = {'id': 'id', 'domain': 'domain', \n",
    "                                              'sin_date': 'sin_doy', 'cos_date': 'cos_doy'},\n",
    "                                     X_col = {'path': 'path'},\n",
    "                                     model_name=\"DenseNet201\",\n",
    "                                     shuffle = True)"
   ]
  },
  {
   "cell_type": "code",
   "execution_count": null,
   "id": "b184037b-0742-4595-8fb1-3214f418d9bf",
   "metadata": {},
   "outputs": [],
   "source": []
  }
 ],
 "metadata": {
  "kernelspec": {
   "display_name": "Python 3.10 AI Kernel",
   "language": "python",
   "name": "aikernel"
  },
  "language_info": {
   "codemirror_mode": {
    "name": "ipython",
    "version": 3
   },
   "file_extension": ".py",
   "mimetype": "text/x-python",
   "name": "python",
   "nbconvert_exporter": "python",
   "pygments_lexer": "ipython3",
   "version": "3.10.2"
  }
 },
 "nbformat": 4,
 "nbformat_minor": 5
}
